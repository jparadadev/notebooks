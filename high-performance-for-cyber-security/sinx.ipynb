{
 "cells": [
  {
   "cell_type": "markdown",
   "id": "604dcbe6-21e7-4dd9-8736-a00043eb5940",
   "metadata": {},
   "source": [
    "# Análisis función Seno"
   ]
  },
  {
   "cell_type": "markdown",
   "id": "43a43c84-a34c-4a4a-93f7-0e383151798d",
   "metadata": {},
   "source": [
    "Análisis del cálculo de la función seno utilizando diferentes estrategias de paralelización."
   ]
  },
  {
   "cell_type": "markdown",
   "id": "0725ac30-67df-4bf1-9eca-8fe292a2bdd2",
   "metadata": {},
   "source": [
    "### Imports de librerías"
   ]
  },
  {
   "cell_type": "code",
   "execution_count": 1,
   "id": "4322f9fd-a331-4911-9359-fc0f9cf7d047",
   "metadata": {},
   "outputs": [],
   "source": [
    "import pandas as pd\n",
    "import matplotlib.pyplot as plt"
   ]
  },
  {
   "cell_type": "markdown",
   "id": "b714a244-6aa9-477c-86ab-68d28f60578f",
   "metadata": {},
   "source": [
    "## Sin X Original"
   ]
  },
  {
   "cell_type": "code",
   "execution_count": 2,
   "id": "3f4a6903-6359-46f5-be7a-f2387933b0fa",
   "metadata": {
    "tags": []
   },
   "outputs": [
    {
     "data": {
      "text/html": [
       "<div>\n",
       "<style scoped>\n",
       "    .dataframe tbody tr th:only-of-type {\n",
       "        vertical-align: middle;\n",
       "    }\n",
       "\n",
       "    .dataframe tbody tr th {\n",
       "        vertical-align: top;\n",
       "    }\n",
       "\n",
       "    .dataframe thead th {\n",
       "        text-align: right;\n",
       "    }\n",
       "</style>\n",
       "<table border=\"1\" class=\"dataframe\">\n",
       "  <thead>\n",
       "    <tr style=\"text-align: right;\">\n",
       "      <th></th>\n",
       "      <th>program</th>\n",
       "      <th>time</th>\n",
       "      <th>threads</th>\n",
       "    </tr>\n",
       "  </thead>\n",
       "  <tbody>\n",
       "    <tr>\n",
       "      <th>0</th>\n",
       "      <td>./sin/sinx</td>\n",
       "      <td>3.707709</td>\n",
       "      <td>1</td>\n",
       "    </tr>\n",
       "    <tr>\n",
       "      <th>1</th>\n",
       "      <td>./sin/sinx</td>\n",
       "      <td>3.681935</td>\n",
       "      <td>1</td>\n",
       "    </tr>\n",
       "    <tr>\n",
       "      <th>2</th>\n",
       "      <td>./sin/sinx</td>\n",
       "      <td>3.629778</td>\n",
       "      <td>1</td>\n",
       "    </tr>\n",
       "    <tr>\n",
       "      <th>3</th>\n",
       "      <td>./sin/sinx</td>\n",
       "      <td>3.736492</td>\n",
       "      <td>1</td>\n",
       "    </tr>\n",
       "    <tr>\n",
       "      <th>4</th>\n",
       "      <td>./sin/sinx</td>\n",
       "      <td>3.669492</td>\n",
       "      <td>1</td>\n",
       "    </tr>\n",
       "  </tbody>\n",
       "</table>\n",
       "</div>"
      ],
      "text/plain": [
       "      program      time  threads\n",
       "0  ./sin/sinx  3.707709        1\n",
       "1  ./sin/sinx  3.681935        1\n",
       "2  ./sin/sinx  3.629778        1\n",
       "3  ./sin/sinx  3.736492        1\n",
       "4  ./sin/sinx  3.669492        1"
      ]
     },
     "execution_count": 2,
     "metadata": {},
     "output_type": "execute_result"
    }
   ],
   "source": [
    "df_ori_easy = pd.read_csv('./datasets/sinx.1.1.csv')\n",
    "df_ori_hard = pd.read_csv('./datasets/sinx.172635172.1.1.csv')\n",
    "\n",
    "df_ori_easy.head()"
   ]
  },
  {
   "cell_type": "code",
   "execution_count": 3,
   "id": "8d6b7e28-48ce-4020-ad44-4dac7a08e4a7",
   "metadata": {
    "tags": []
   },
   "outputs": [],
   "source": [
    "df_ori_easy_med = df_ori_easy.groupby(['threads'], as_index=True)['time'].median().reset_index(name='time')\n",
    "df_ori_hard_med = df_ori_hard.groupby(['threads'], as_index=True)['time'].median().reset_index(name='time')"
   ]
  },
  {
   "cell_type": "code",
   "execution_count": 4,
   "id": "b79ec196-352d-44c7-bfa7-5cd8d0ef8f05",
   "metadata": {},
   "outputs": [
    {
     "data": {
      "text/html": [
       "<div>\n",
       "<style scoped>\n",
       "    .dataframe tbody tr th:only-of-type {\n",
       "        vertical-align: middle;\n",
       "    }\n",
       "\n",
       "    .dataframe tbody tr th {\n",
       "        vertical-align: top;\n",
       "    }\n",
       "\n",
       "    .dataframe thead th {\n",
       "        text-align: right;\n",
       "    }\n",
       "</style>\n",
       "<table border=\"1\" class=\"dataframe\">\n",
       "  <thead>\n",
       "    <tr style=\"text-align: right;\">\n",
       "      <th></th>\n",
       "      <th>threads</th>\n",
       "      <th>time</th>\n",
       "    </tr>\n",
       "  </thead>\n",
       "  <tbody>\n",
       "    <tr>\n",
       "      <th>0</th>\n",
       "      <td>1</td>\n",
       "      <td>3.68115</td>\n",
       "    </tr>\n",
       "  </tbody>\n",
       "</table>\n",
       "</div>"
      ],
      "text/plain": [
       "   threads     time\n",
       "0        1  3.68115"
      ]
     },
     "execution_count": 4,
     "metadata": {},
     "output_type": "execute_result"
    }
   ],
   "source": [
    "df_ori_easy_med.head()"
   ]
  },
  {
   "cell_type": "code",
   "execution_count": 5,
   "id": "c53d33cf-ba0b-4c92-a29c-8fd412a8c89a",
   "metadata": {},
   "outputs": [
    {
     "data": {
      "text/html": [
       "<div>\n",
       "<style scoped>\n",
       "    .dataframe tbody tr th:only-of-type {\n",
       "        vertical-align: middle;\n",
       "    }\n",
       "\n",
       "    .dataframe tbody tr th {\n",
       "        vertical-align: top;\n",
       "    }\n",
       "\n",
       "    .dataframe thead th {\n",
       "        text-align: right;\n",
       "    }\n",
       "</style>\n",
       "<table border=\"1\" class=\"dataframe\">\n",
       "  <thead>\n",
       "    <tr style=\"text-align: right;\">\n",
       "      <th></th>\n",
       "      <th>threads</th>\n",
       "      <th>time</th>\n",
       "    </tr>\n",
       "  </thead>\n",
       "  <tbody>\n",
       "    <tr>\n",
       "      <th>0</th>\n",
       "      <td>1</td>\n",
       "      <td>9.408867</td>\n",
       "    </tr>\n",
       "  </tbody>\n",
       "</table>\n",
       "</div>"
      ],
      "text/plain": [
       "   threads      time\n",
       "0        1  9.408867"
      ]
     },
     "execution_count": 5,
     "metadata": {},
     "output_type": "execute_result"
    }
   ],
   "source": [
    "df_ori_hard_med.head()"
   ]
  },
  {
   "cell_type": "code",
   "execution_count": 6,
   "id": "d732062a-7c4f-4502-b9b3-1977beb42d60",
   "metadata": {
    "tags": []
   },
   "outputs": [
    {
     "data": {
      "text/plain": [
       "<Axes: >"
      ]
     },
     "execution_count": 6,
     "metadata": {},
     "output_type": "execute_result"
    },
    {
     "data": {
      "image/png": "[encoded data removed]",
      "text/plain": [
       "<Figure size 640x480 with 1 Axes>"
      ]
     },
     "metadata": {},
     "output_type": "display_data"
    }
   ],
   "source": [
    "df_ori_easy['time'].hist()"
   ]
  },
  {
   "cell_type": "code",
   "execution_count": 7,
   "id": "fdce48fc-3f31-4596-86d5-b86849c5e950",
   "metadata": {
    "tags": []
   },
   "outputs": [
    {
     "data": {
      "text/plain": [
       "<Axes: >"
      ]
     },
     "execution_count": 7,
     "metadata": {},
     "output_type": "execute_result"
    },
    {
     "data": {
      "image/png": "[encoded data removed]",
      "text/plain": [
       "<Figure size 640x480 with 1 Axes>"
      ]
     },
     "metadata": {},
     "output_type": "display_data"
    }
   ],
   "source": [
    "df_ori_hard['time'].hist()"
   ]
  },
  {
   "cell_type": "code",
   "execution_count": null,
   "id": "fb6926f0-c36c-4999-ab3d-bc11818923b0",
   "metadata": {},
   "outputs": [],
   "source": []
  }
 ],
 "metadata": {
  "kernelspec": {
   "display_name": "Python 3 (ipykernel)",
   "language": "python",
   "name": "python3"
  },
  "language_info": {
   "codemirror_mode": {
    "name": "ipython",
    "version": 3
   },
   "file_extension": ".py",
   "mimetype": "text/x-python",
   "name": "python",
   "nbconvert_exporter": "python",
   "pygments_lexer": "ipython3",
   "version": "3.11.3"
  }
 },
 "nbformat": 4,
 "nbformat_minor": 5
}
