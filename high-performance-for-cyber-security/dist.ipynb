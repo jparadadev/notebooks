{
 "cells": [
  {
   "cell_type": "markdown",
   "id": "604dcbe6-21e7-4dd9-8736-a00043eb5940",
   "metadata": {},
   "source": [
    "# Análisis script Dist"
   ]
  },
  {
   "cell_type": "markdown",
   "id": "43a43c84-a34c-4a4a-93f7-0e383151798d",
   "metadata": {},
   "source": [
    "Análisis del cálculo de la función utilizando diferentes estrategias de paralelización."
   ]
  },
  {
   "cell_type": "markdown",
   "id": "0725ac30-67df-4bf1-9eca-8fe292a2bdd2",
   "metadata": {},
   "source": [
    "### Imports de librerías"
   ]
  },
  {
   "cell_type": "code",
   "execution_count": 1,
   "id": "4322f9fd-a331-4911-9359-fc0f9cf7d047",
   "metadata": {},
   "outputs": [],
   "source": [
    "import pandas as pd\n",
    "import matplotlib.pyplot as plt"
   ]
  },
  {
   "cell_type": "markdown",
   "id": "b714a244-6aa9-477c-86ab-68d28f60578f",
   "metadata": {},
   "source": [
    "## Sin X Original"
   ]
  },
  {
   "cell_type": "code",
   "execution_count": 2,
   "id": "3f4a6903-6359-46f5-be7a-f2387933b0fa",
   "metadata": {
    "tags": []
   },
   "outputs": [
    {
     "data": {
      "text/html": [
       "<div>\n",
       "<style scoped>\n",
       "    .dataframe tbody tr th:only-of-type {\n",
       "        vertical-align: middle;\n",
       "    }\n",
       "\n",
       "    .dataframe tbody tr th {\n",
       "        vertical-align: top;\n",
       "    }\n",
       "\n",
       "    .dataframe thead th {\n",
       "        text-align: right;\n",
       "    }\n",
       "</style>\n",
       "<table border=\"1\" class=\"dataframe\">\n",
       "  <thead>\n",
       "    <tr style=\"text-align: right;\">\n",
       "      <th></th>\n",
       "      <th>program</th>\n",
       "      <th>time</th>\n",
       "      <th>threads</th>\n",
       "    </tr>\n",
       "  </thead>\n",
       "  <tbody>\n",
       "    <tr>\n",
       "      <th>0</th>\n",
       "      <td>./dist/dist</td>\n",
       "      <td>3.510449</td>\n",
       "      <td>1</td>\n",
       "    </tr>\n",
       "    <tr>\n",
       "      <th>1</th>\n",
       "      <td>./dist/dist</td>\n",
       "      <td>3.515164</td>\n",
       "      <td>1</td>\n",
       "    </tr>\n",
       "    <tr>\n",
       "      <th>2</th>\n",
       "      <td>./dist/dist</td>\n",
       "      <td>3.550848</td>\n",
       "      <td>1</td>\n",
       "    </tr>\n",
       "    <tr>\n",
       "      <th>3</th>\n",
       "      <td>./dist/dist</td>\n",
       "      <td>3.519048</td>\n",
       "      <td>1</td>\n",
       "    </tr>\n",
       "    <tr>\n",
       "      <th>4</th>\n",
       "      <td>./dist/dist</td>\n",
       "      <td>3.532486</td>\n",
       "      <td>1</td>\n",
       "    </tr>\n",
       "  </tbody>\n",
       "</table>\n",
       "</div>"
      ],
      "text/plain": [
       "       program      time  threads\n",
       "0  ./dist/dist  3.510449        1\n",
       "1  ./dist/dist  3.515164        1\n",
       "2  ./dist/dist  3.550848        1\n",
       "3  ./dist/dist  3.519048        1\n",
       "4  ./dist/dist  3.532486        1"
      ]
     },
     "execution_count": 2,
     "metadata": {},
     "output_type": "execute_result"
    }
   ],
   "source": [
    "df_dist = pd.read_csv('./datasets/dist.csv')\n",
    "df_avx = pd.read_csv('./datasets/dist-avx.csv')\n",
    "df_sse4 = pd.read_csv('./datasets/dist-sse4.csv')\n",
    "\n",
    "df_dist.head()"
   ]
  },
  {
   "cell_type": "code",
   "execution_count": 3,
   "id": "8d6b7e28-48ce-4020-ad44-4dac7a08e4a7",
   "metadata": {
    "tags": []
   },
   "outputs": [
    {
     "data": {
      "text/plain": [
       "3.0643622875213623"
      ]
     },
     "execution_count": 3,
     "metadata": {},
     "output_type": "execute_result"
    }
   ],
   "source": [
    "df_dist['time'].median()\n",
    "df_avx['time'].median()\n",
    "df_sse4['time'].median()"
   ]
  },
  {
   "cell_type": "code",
   "execution_count": 4,
   "id": "f1c49590-e56f-4b85-8821-aafb9462ae81",
   "metadata": {
    "tags": []
   },
   "outputs": [],
   "source": [
    "df_dist = df_dist.head(30)\n",
    "df_avx = df_avx.head(30)\n",
    "df_sse4 = df_sse4.head(30)\n",
    "\n",
    "df_dist = df_dist.head(30)\n",
    "df_avx = df_avx.head(30)\n",
    "df_sse4 = df_sse4.head(30)"
   ]
  },
  {
   "cell_type": "code",
   "execution_count": 5,
   "id": "448f0c1f-c7c6-4a25-a1ea-0b5ba46aa9cc",
   "metadata": {
    "tags": []
   },
   "outputs": [
    {
     "data": {
      "text/plain": [
       "<Axes: >"
      ]
     },
     "execution_count": 5,
     "metadata": {},
     "output_type": "execute_result"
    },
    {
     "data": {
      "image/png": "[encoded data removed]",
      "text/plain": [
       "<Figure size 640x480 with 1 Axes>"
      ]
     },
     "metadata": {},
     "output_type": "display_data"
    }
   ],
   "source": [
    "%matplotlib inline\n",
    "\n",
    "df_dist['time'].hist()\n",
    "df_avx['time'].hist()\n",
    "df_sse4['time'].hist()"
   ]
  },
  {
   "cell_type": "code",
   "execution_count": 7,
   "id": "908033cf-0497-4a96-8a90-9fde3297710c",
   "metadata": {
    "tags": []
   },
   "outputs": [
    {
     "data": {
      "text/plain": [
       "<Axes: >"
      ]
     },
     "execution_count": 7,
     "metadata": {},
     "output_type": "execute_result"
    },
    {
     "data": {
      "image/png": "[encoded data removed]",
      "text/plain": [
       "<Figure size 640x480 with 1 Axes>"
      ]
     },
     "metadata": {},
     "output_type": "display_data"
    }
   ],
   "source": [
    "df_dist.boxplot(column='time')\n",
    "df_avx.boxplot(column='time')\n",
    "df_sse4.boxplot(column='time')"
   ]
  },
  {
   "cell_type": "code",
   "execution_count": null,
   "id": "bc0c6309-d072-446b-9ba9-105d777abe95",
   "metadata": {},
   "outputs": [],
   "source": []
  }
 ],
 "metadata": {
  "kernelspec": {
   "display_name": "Python 3 (ipykernel)",
   "language": "python",
   "name": "python3"
  },
  "language_info": {
   "codemirror_mode": {
    "name": "ipython",
    "version": 3
   },
   "file_extension": ".py",
   "mimetype": "text/x-python",
   "name": "python",
   "nbconvert_exporter": "python",
   "pygments_lexer": "ipython3",
   "version": "3.11.3"
  }
 },
 "nbformat": 4,
 "nbformat_minor": 5
}
